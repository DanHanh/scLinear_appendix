{
 "cells": [
  {
   "cell_type": "code",
   "execution_count": 4,
   "metadata": {
    "pycharm": {
     "name": "#%%\n"
    }
   },
   "outputs": [
    {
     "name": "stdout",
     "output_type": "stream",
     "text": [
      "The autoreload extension is already loaded. To reload it, use:\n",
      "  %reload_ext autoreload\n"
     ]
    }
   ],
   "source": [
    "%load_ext autoreload\n",
    "%autoreload 2"
   ]
  },
  {
   "cell_type": "code",
   "execution_count": 5,
   "metadata": {
    "pycharm": {
     "name": "#%%\n"
    }
   },
   "outputs": [],
   "source": [
    "import anndata as ad\n",
    "import numpy as np\n",
    "import os\n",
    "import scanpy as sc\n",
    "import numpy as np\n",
    "\n",
    "from evaluate import evaluate\n",
    "from prediction import ADTPredictor, ADTPredictorKRREnsemble"
   ]
  },
  {
   "cell_type": "markdown",
   "metadata": {
    "pycharm": {
     "name": "#%% md\n"
    }
   },
   "source": [
    "### Train on NeurIPS competition dataset"
   ]
  },
  {
   "cell_type": "code",
   "execution_count": 7,
   "metadata": {
    "pycharm": {
     "name": "#%%\n"
    }
   },
   "outputs": [],
   "source": [
    "#dataset_path = \"../NeurIPS/competition_data/openproblems_bmmc_cite_phase2_rna/openproblems_bmmc_cite_phase2_rna.censor_dataset.output_\"\n",
    "dataset_path = \"../local/NeurIPS/competition_data/openproblems_bmmc_cite_phase2_rna.censor_dataset.output_\"\n",
    "gex_train = ad.read_h5ad(dataset_path + \"train_mod1.h5ad\")\n",
    "gex_test = ad.read_h5ad(dataset_path + \"test_mod1.h5ad\")\n",
    "adt_train = ad.read_h5ad(dataset_path + \"train_mod2.h5ad\")\n",
    "adt_test = ad.read_h5ad(dataset_path + \"test_mod2.h5ad\")"
   ]
  },
  {
   "cell_type": "code",
   "execution_count": 8,
   "metadata": {
    "pycharm": {
     "name": "#%%\n"
    }
   },
   "outputs": [],
   "source": [
    "# using high-level interface\n",
    "pipe = ADTPredictor(do_log1p=False)\n",
    "# fit on training data\n",
    "# gex_test is optional and is used for transductive preprocessing if provided\n",
    "# gex_names and adt_names are optional and should refer to the variable names of gex_train and adt_train\n",
    "# if not provided, the predict() method will assume that all the columns of the test GEX matrix are in the same order as the training GEX matrix\n",
    "pipe.fit(gex_train=gex_train.X.toarray(), adt_train=adt_train.X.toarray(), gex_test=gex_test.X.toarray(), gex_names=gex_train.var_names.to_numpy(), adt_names=adt_train.var_names.to_numpy())"
   ]
  },
  {
   "cell_type": "code",
   "execution_count": 9,
   "metadata": {
    "pycharm": {
     "name": "#%%\n"
    }
   },
   "outputs": [
    {
     "name": "stdout",
     "output_type": "stream",
     "text": [
      "RMSE: 0.38256356\n",
      "Pearson correlation: 0.8745113684604644\n",
      "Spearman correlation: 0.8415399498602144\n"
     ]
    },
    {
     "data": {
      "text/plain": [
       "(0.38256356, 0.8745113684604644, 0.8415399498602144)"
      ]
     },
     "execution_count": 9,
     "metadata": {},
     "output_type": "execute_result"
    }
   ],
   "source": [
    "adt_pred, adt_names = pipe.predict(gex_test.X.toarray())\n",
    "evaluate(adt_pred, adt_test.X.toarray())"
   ]
  },
  {
   "cell_type": "code",
   "execution_count": 10,
   "metadata": {
    "pycharm": {
     "name": "#%%\n"
    }
   },
   "outputs": [
    {
     "data": {
      "text/plain": [
       "array(['CD86', 'CD274', 'CD270', 'CD155', 'CD112', 'CD47', 'CD48', 'CD40',\n",
       "       'CD154', 'CD52', 'CD3', 'CD8', 'CD56', 'CD19', 'CD33', 'CD11c',\n",
       "       'HLA-A-B-C', 'CD45RA', 'CD123', 'CD7', 'CD105', 'CD49f', 'CD194',\n",
       "       'CD4', 'CD44', 'CD14', 'CD16', 'CD25', 'CD45RO', 'CD279', 'TIGIT',\n",
       "       'CD20', 'CD335', 'CD31', 'Podoplanin', 'CD146', 'IgM', 'CD5',\n",
       "       'CD195', 'CD32', 'CD196', 'CD185', 'CD103', 'CD69', 'CD62L',\n",
       "       'CD161', 'CD152', 'CD223', 'KLRG1', 'CD27', 'CD107a', 'CD95',\n",
       "       'CD134', 'HLA-DR', 'CD1c', 'CD11b', 'CD64', 'CD141', 'CD1d',\n",
       "       'CD314', 'CD35', 'CD57', 'CD272', 'CD278', 'CD58', 'CD39',\n",
       "       'CX3CR1', 'CD24', 'CD21', 'CD11a', 'CD79b', 'CD244', 'CD169',\n",
       "       'integrinB7', 'CD268', 'CD42b', 'CD54', 'CD62P', 'CD119', 'TCR',\n",
       "       'CD192', 'CD122', 'FceRIa', 'CD41', 'CD137', 'CD163', 'CD83',\n",
       "       'CD124', 'CD13', 'CD2', 'CD226', 'CD29', 'CD303', 'CD49b', 'CD81',\n",
       "       'IgD', 'CD18', 'CD28', 'CD38', 'CD127', 'CD45', 'CD22', 'CD71',\n",
       "       'CD26', 'CD115', 'CD63', 'CD304', 'CD36', 'CD172a', 'CD72',\n",
       "       'CD158', 'CD93', 'CD49a', 'CD49d', 'CD73', 'CD9', 'TCRVa7.2',\n",
       "       'TCRVd2', 'LOX-1', 'CD158b', 'CD158e1', 'CD142', 'CD319', 'CD352',\n",
       "       'CD94', 'CD162', 'CD85j', 'CD23', 'CD328', 'HLA-E', 'CD82',\n",
       "       'CD101', 'CD88', 'CD224'], dtype=object)"
      ]
     },
     "execution_count": 10,
     "metadata": {},
     "output_type": "execute_result"
    }
   ],
   "source": [
    "# adt names are also stored as a property\n",
    "pipe.adt_names"
   ]
  },
  {
   "cell_type": "code",
   "execution_count": 11,
   "metadata": {
    "pycharm": {
     "name": "#%%\n"
    }
   },
   "outputs": [],
   "source": [
    "# save the trained pipeline to a file\n",
    "pipe.save(\"../data/ADTPredictor_neuripstrain_alltypes.joblib\")"
   ]
  },
  {
   "cell_type": "markdown",
   "metadata": {
    "pycharm": {
     "name": "#%% md\n"
    }
   },
   "source": [
    "### Train on NeurIPS competition dataset, only T cells"
   ]
  },
  {
   "cell_type": "code",
   "execution_count": 15,
   "metadata": {
    "pycharm": {
     "name": "#%%\n"
    }
   },
   "outputs": [
    {
     "name": "stderr",
     "output_type": "stream",
     "text": [
      "/home/triller/.virtualenvs/scLinear_code/lib/python3.9/site-packages/anndata/_core/anndata.py:1832: UserWarning: Variable names are not unique. To make them unique, call `.var_names_make_unique`.\n",
      "  utils.warn_names_duplicates(\"var\")\n"
     ]
    }
   ],
   "source": [
    "#dataset_with_celltype = \"../../../../../PycharmProjects/ModalityPrediction/datasets/post_competition/openproblems_bmmc_cite_complete.h5ad\"\n",
    "dataset_with_celltype = \"../local/NeurIPS/annotated_data/openproblems_bmmc_cite_complete.h5ad\"\n",
    "gex_adt_with_celltype = ad.read_h5ad(dataset_with_celltype)"
   ]
  },
  {
   "cell_type": "code",
   "execution_count": 19,
   "metadata": {
    "pycharm": {
     "name": "#%%\n"
    }
   },
   "outputs": [
    {
     "data": {
      "text/plain": [
       "cell_type\n",
       "CD14+ Mono                          21693\n",
       "CD4+ T activated                     6966\n",
       "CD4+ T naive                         5897\n",
       "NK                                   5434\n",
       "Reticulocyte                         4272\n",
       "Erythroblast                         4039\n",
       "Naive CD20+ B IGKC+                  3990\n",
       "CD8+ T naive                         3107\n",
       "CD16+ Mono                           2635\n",
       "NK CD158e1+                          2167\n",
       "Naive CD20+ B IGKC-                  1979\n",
       "G/M prog                             1881\n",
       "pDC                                  1758\n",
       "HSC                                  1703\n",
       "cDC2                                 1702\n",
       "Lymph prog                           1681\n",
       "Transitional B                       1575\n",
       "Proerythroblast                      1512\n",
       "CD8+ T CD57+ CD45RO+                 1470\n",
       "Normoblast                           1435\n",
       "CD8+ T CD57+ CD45RA+                 1303\n",
       "CD8+ T TIGIT+ CD45RO+                1160\n",
       "CD4+ T activated integrinB7+         1056\n",
       "CD8+ T TIGIT+ CD45RA+                1032\n",
       "CD8+ T CD49f+                         912\n",
       "CD8+ T CD69+ CD45RO+                  897\n",
       "B1 B IGKC+                            820\n",
       "MAIT                                  756\n",
       "CD8+ T CD69+ CD45RA+                  740\n",
       "MK/E prog                             690\n",
       "gdT CD158b+                           674\n",
       "B1 B IGKC-                            613\n",
       "T reg                                 609\n",
       "ILC1                                  552\n",
       "Plasma cell IGKC+                     288\n",
       "Plasma cell IGKC-                     239\n",
       "ILC                                   238\n",
       "Plasmablast IGKC+                     232\n",
       "gdT TCRVD2+                           191\n",
       "Plasmablast IGKC-                     130\n",
       "CD4+ T CD314+ CD45RA+                  93\n",
       "dnT                                    56\n",
       "CD8+ T naive CD127+ CD26- CD101-       42\n",
       "T prog cycling                         24\n",
       "cDC1                                   18\n",
       "Name: count, dtype: int64"
      ]
     },
     "execution_count": 19,
     "metadata": {},
     "output_type": "execute_result"
    }
   ],
   "source": [
    "gex_adt_with_celltype.obs[\"cell_type\"].value_counts()"
   ]
  },
  {
   "cell_type": "code",
   "execution_count": 16,
   "metadata": {
    "pycharm": {
     "name": "#%%\n"
    }
   },
   "outputs": [],
   "source": [
    "def filter_to_Tcells(adata):\n",
    "    gex_data = adata[:, adata.var[\"feature_types\"] == \"GEX\"]\n",
    "    adt_data = adata[:, adata.var[\"feature_types\"] == \"ADT\"]\n",
    "    cell_mask = adata.obs[\"cell_type\"].str.contains(\"T \") | adata.obs[\"cell_type\"].str.endswith(\"T\")\n",
    "    return gex_data[cell_mask], adt_data[cell_mask]"
   ]
  },
  {
   "cell_type": "code",
   "execution_count": 17,
   "metadata": {
    "pycharm": {
     "name": "#%%\n"
    }
   },
   "outputs": [],
   "source": [
    "gex_train_Tcells, adt_train_Tcells = filter_to_Tcells(gex_adt_with_celltype[gex_train.obs_names])\n",
    "gex_test_Tcells, adt_test_Tcells = filter_to_Tcells(gex_adt_with_celltype[gex_test.obs_names])"
   ]
  },
  {
   "cell_type": "code",
   "execution_count": 18,
   "metadata": {
    "pycharm": {
     "name": "#%%\n"
    }
   },
   "outputs": [
    {
     "data": {
      "text/plain": [
       "cell_type\n",
       "CD4+ T activated                    4989\n",
       "CD4+ T naive                        4294\n",
       "CD8+ T naive                        2081\n",
       "CD8+ T TIGIT+ CD45RO+                869\n",
       "CD8+ T CD57+ CD45RA+                 853\n",
       "CD8+ T TIGIT+ CD45RA+                781\n",
       "CD4+ T activated integrinB7+         725\n",
       "CD8+ T CD49f+                        594\n",
       "CD8+ T CD69+ CD45RO+                 498\n",
       "CD8+ T CD69+ CD45RA+                 456\n",
       "MAIT                                 438\n",
       "T reg                                393\n",
       "CD8+ T CD57+ CD45RO+                 380\n",
       "gdT CD158b+                          210\n",
       "gdT TCRVD2+                          155\n",
       "CD4+ T CD314+ CD45RA+                 83\n",
       "dnT                                   49\n",
       "CD8+ T naive CD127+ CD26- CD101-      37\n",
       "T prog cycling                        18\n",
       "Name: count, dtype: int64"
      ]
     },
     "execution_count": 18,
     "metadata": {},
     "output_type": "execute_result"
    }
   ],
   "source": [
    "gex_train_Tcells.obs[\"cell_type\"].value_counts()"
   ]
  },
  {
   "cell_type": "code",
   "execution_count": 20,
   "metadata": {
    "pycharm": {
     "name": "#%%\n"
    }
   },
   "outputs": [
    {
     "name": "stdout",
     "output_type": "stream",
     "text": [
      "RMSE: 0.38099897\n",
      "Pearson correlation: 0.8675845916677649\n",
      "Spearman correlation: 0.8400509270626534\n"
     ]
    },
    {
     "data": {
      "text/plain": [
       "(0.38099897, 0.8675845916677649, 0.8400509270626534)"
      ]
     },
     "execution_count": 20,
     "metadata": {},
     "output_type": "execute_result"
    }
   ],
   "source": [
    "# first evaluate the performance on T cells using the model trained on all cell types\n",
    "pipe = ADTPredictor(do_log1p=False)\n",
    "pipe.load(\"../data/ADTPredictor_neuripstrain_alltypes.joblib\")\n",
    "adt_pred, adt_names = pipe.predict(np.log1p(gex_test_Tcells.X.toarray()))\n",
    "evaluate(adt_pred, adt_test_Tcells.X.toarray())"
   ]
  },
  {
   "cell_type": "code",
   "execution_count": 21,
   "metadata": {
    "pycharm": {
     "name": "#%%\n"
    }
   },
   "outputs": [],
   "source": [
    "# train a new pipeline on only T cells\n",
    "pipe_Tcells = ADTPredictor(do_log1p=True)\n",
    "pipe_Tcells.fit(gex_train=gex_train_Tcells.X.toarray(),\n",
    "                adt_train=adt_train_Tcells.X.toarray(),\n",
    "                gex_test=gex_test_Tcells.X.toarray(),\n",
    "                gex_names=gex_train_Tcells.var_names.to_numpy(),\n",
    "                adt_names=adt_train_Tcells.var_names.to_numpy())"
   ]
  },
  {
   "cell_type": "code",
   "execution_count": 22,
   "metadata": {
    "pycharm": {
     "name": "#%%\n"
    }
   },
   "outputs": [
    {
     "name": "stdout",
     "output_type": "stream",
     "text": [
      "RMSE: 0.37285337\n",
      "Pearson correlation: 0.8735118246440898\n",
      "Spearman correlation: 0.8511490598887181\n"
     ]
    },
    {
     "data": {
      "text/plain": [
       "(0.37285337, 0.8735118246440898, 0.8511490598887181)"
      ]
     },
     "execution_count": 22,
     "metadata": {},
     "output_type": "execute_result"
    }
   ],
   "source": [
    "# evaluate on T cells\n",
    "adt_pred, adt_names = pipe_Tcells.predict(gex_test_Tcells.X.toarray())\n",
    "evaluate(adt_pred, adt_test_Tcells.X.toarray())"
   ]
  },
  {
   "cell_type": "code",
   "execution_count": 23,
   "metadata": {
    "pycharm": {
     "name": "#%%\n"
    }
   },
   "outputs": [],
   "source": [
    "# save the trained pipeline\n",
    "pipe_Tcells.save(\"../data/ADTPredictor_neuripstrain_Tcells.joblib\")"
   ]
  },
  {
   "cell_type": "code",
   "execution_count": 29,
   "metadata": {
    "pycharm": {
     "name": "#%%\n"
    }
   },
   "outputs": [
    {
     "name": "stdout",
     "output_type": "stream",
     "text": [
      "Loading gex, adt\n"
     ]
    },
    {
     "name": "stderr",
     "output_type": "stream",
     "text": [
      "/home/triller/.virtualenvs/scLinear_code/lib/python3.9/site-packages/anndata/_core/anndata.py:1832: UserWarning: Variable names are not unique. To make them unique, call `.var_names_make_unique`.\n",
      "  utils.warn_names_duplicates(\"var\")\n"
     ]
    },
    {
     "name": "stdout",
     "output_type": "stream",
     "text": [
      "Filtering duplicate variables, zero variables, zero cells, fixing adt var names\n"
     ]
    }
   ],
   "source": [
    "# load the blood tcells dataset, to test the generalization of the model\n",
    "#datasets_path = \"../../../../../PycharmProjects/ModalityPrediction/datasets/\"\n",
    "#gex_path = os.path.join(datasets_path, \"bloodTcellsCITEseqDOGMAseq/GSM6032900_CITE_RNA_filtered_feature_bc_matrix.h5\")\n",
    "#adt_path = os.path.join(datasets_path, \"bloodTcellsCITEseqDOGMAseq/GSM6032898_CITE_ADT.csv.gz\")\n",
    "\n",
    "datasets_path = \"../local/NeurIPS/GSM6032900/\"\n",
    "gex_path = os.path.join(datasets_path, \"GSM6032900_CITE_RNA_filtered_feature_bc_matrix.h5\")\n",
    "adt_path = os.path.join(datasets_path, \"GSM6032898_CITE_ADT.csv.gz\")\n",
    "\n",
    "\n",
    "print(\"Loading gex, adt\")\n",
    "gex_tcellsdset = sc.read_10x_h5(gex_path)\n",
    "adt_tcellsdset = ad.read_csv(adt_path, first_column_names=True).transpose()\n",
    "\n",
    "print(\"Filtering duplicate variables, zero variables, zero cells, fixing adt var names\")\n",
    "# filter out duplicate variables\n",
    "gex_tcellsdset.var_names_make_unique()\n",
    "adt_tcellsdset.var_names_make_unique()\n",
    "# filter out cells with no adt measurements\n",
    "gex_tcellsdset = gex_tcellsdset[adt_tcellsdset.obs_names]\n",
    "gex_tcellsdset_df = gex_tcellsdset.to_df()\n",
    "# filter out genes with constant expression in every cell\n",
    "gex_tcellsdset = gex_tcellsdset[:, (gex_tcellsdset_df != gex_tcellsdset_df.iloc[0]).any(axis=0)]\n",
    "# delete the last 6 characters of the protein names (to match the protein names in the competition dataset)\n",
    "adt_tcellsdset.var_names = [x[:-6] for x in adt_tcellsdset.var_names]"
   ]
  },
  {
   "cell_type": "code",
   "execution_count": 30,
   "metadata": {
    "pycharm": {
     "name": "#%%\n"
    }
   },
   "outputs": [],
   "source": [
    "# predict using the model trained on all cell types\n",
    "# by providing gex_names, the predict() method will filter out the GEX variables on which the model was not trained\n",
    "# the GEX variables that were in the training set but not in gex_names will be set to 0\n",
    "adt_tcellsdset_pred, adt_tcellsdset_pred_names = pipe.predict(np.log1p(gex_tcellsdset.X.toarray()), gex_names=gex_tcellsdset.var_names.to_numpy())"
   ]
  },
  {
   "cell_type": "code",
   "execution_count": 31,
   "metadata": {
    "pycharm": {
     "name": "#%%\n"
    }
   },
   "outputs": [],
   "source": [
    "# filter out the proteins that are not in the competition dataset\n",
    "adt_tcellsdset_true = adt_tcellsdset[:, adt_tcellsdset_pred_names[np.isin(adt_tcellsdset_pred_names, adt_tcellsdset.var_names)]]"
   ]
  },
  {
   "cell_type": "code",
   "execution_count": 32,
   "metadata": {
    "pycharm": {
     "name": "#%%\n"
    }
   },
   "outputs": [
    {
     "name": "stdout",
     "output_type": "stream",
     "text": [
      "RMSE: 48.76078\n",
      "Pearson correlation: 0.47266432314340695\n",
      "Spearman correlation: 0.646443954411851\n"
     ]
    },
    {
     "data": {
      "text/plain": [
       "(48.76078, 0.47266432314340695, 0.646443954411851)"
      ]
     },
     "execution_count": 32,
     "metadata": {},
     "output_type": "execute_result"
    }
   ],
   "source": [
    "evaluate(adt_tcellsdset_pred[:, np.isin(adt_tcellsdset_pred_names, adt_tcellsdset_true.var_names)], adt_tcellsdset_true.X)"
   ]
  },
  {
   "cell_type": "code",
   "execution_count": 33,
   "metadata": {
    "pycharm": {
     "name": "#%%\n"
    }
   },
   "outputs": [
    {
     "name": "stdout",
     "output_type": "stream",
     "text": [
      "RMSE: 48.757954\n",
      "Pearson correlation: 0.49424800950172715\n",
      "Spearman correlation: 0.6850092893825263\n"
     ]
    },
    {
     "data": {
      "text/plain": [
       "(48.757954, 0.49424800950172715, 0.6850092893825263)"
      ]
     },
     "execution_count": 33,
     "metadata": {},
     "output_type": "execute_result"
    }
   ],
   "source": [
    "# predict using the model trained on T cells\n",
    "adt_tcellsdset_pred, adt_tcellsdset_pred_names = pipe_Tcells.predict(gex_tcellsdset.X.toarray(), gex_names=gex_tcellsdset.var_names.to_numpy())\n",
    "evaluate(adt_tcellsdset_pred[:, np.isin(adt_tcellsdset_pred_names, adt_tcellsdset_true.var_names)], adt_tcellsdset_true.X)"
   ]
  },
  {
   "cell_type": "markdown",
   "metadata": {
    "pycharm": {
     "name": "#%% md\n"
    }
   },
   "source": [
    "### Train on NeurIPS competition dataset, only B cells"
   ]
  },
  {
   "cell_type": "code",
   "execution_count": 34,
   "metadata": {
    "pycharm": {
     "name": "#%%\n"
    }
   },
   "outputs": [],
   "source": [
    "def filter_to_Bcells(adata):\n",
    "    gex_data = adata[:, adata.var[\"feature_types\"] == \"GEX\"]\n",
    "    adt_data = adata[:, adata.var[\"feature_types\"] == \"ADT\"]\n",
    "    cell_mask = adata.obs[\"cell_type\"].str.contains(\"B \") | adata.obs[\"cell_type\"].str.endswith(\"B\")\n",
    "    return gex_data[cell_mask], adt_data[cell_mask]\n",
    "\n",
    "gex_train_Bcells, adt_train_Bcells = filter_to_Bcells(gex_adt_with_celltype[gex_train.obs_names])\n",
    "gex_test_Bcells, adt_test_Bcells = filter_to_Bcells(gex_adt_with_celltype[gex_test.obs_names])"
   ]
  },
  {
   "cell_type": "code",
   "execution_count": 35,
   "metadata": {
    "pycharm": {
     "name": "#%%\n"
    }
   },
   "outputs": [
    {
     "data": {
      "text/plain": [
       "cell_type\n",
       "Naive CD20+ B IGKC+    2464\n",
       "Naive CD20+ B IGKC-    1205\n",
       "Transitional B          922\n",
       "B1 B IGKC+              541\n",
       "B1 B IGKC-              407\n",
       "Name: count, dtype: int64"
      ]
     },
     "execution_count": 35,
     "metadata": {},
     "output_type": "execute_result"
    }
   ],
   "source": [
    "gex_train_Bcells.obs[\"cell_type\"].value_counts()"
   ]
  },
  {
   "cell_type": "code",
   "execution_count": 36,
   "metadata": {
    "pycharm": {
     "name": "#%%\n"
    }
   },
   "outputs": [],
   "source": [
    "# train a new pipeline on only B cells\n",
    "pipe_Bcells = ADTPredictor(do_log1p=True)\n",
    "pipe_Bcells.fit(gex_train=gex_train_Bcells.X.toarray(),\n",
    "                adt_train=adt_train_Bcells.X.toarray(),\n",
    "                gex_test=gex_test_Bcells.X.toarray(),\n",
    "                gex_names=gex_train_Bcells.var_names.to_numpy(),\n",
    "                adt_names=adt_train_Bcells.var_names.to_numpy())"
   ]
  },
  {
   "cell_type": "code",
   "execution_count": 37,
   "metadata": {
    "pycharm": {
     "name": "#%%\n"
    }
   },
   "outputs": [
    {
     "name": "stdout",
     "output_type": "stream",
     "text": [
      "RMSE: 0.337103\n",
      "Pearson correlation: 0.8980249009905821\n",
      "Spearman correlation: 0.8588047383487498\n"
     ]
    },
    {
     "data": {
      "text/plain": [
       "(0.337103, 0.8980249009905821, 0.8588047383487498)"
      ]
     },
     "execution_count": 37,
     "metadata": {},
     "output_type": "execute_result"
    }
   ],
   "source": [
    "# evaluate on B cells\n",
    "adt_pred, adt_names = pipe_Bcells.predict(gex_test_Bcells.X.toarray())\n",
    "evaluate(adt_pred, adt_test_Bcells.X.toarray())"
   ]
  },
  {
   "cell_type": "code",
   "execution_count": 38,
   "metadata": {
    "pycharm": {
     "name": "#%%\n"
    }
   },
   "outputs": [],
   "source": [
    "# save the trained pipeline\n",
    "pipe_Bcells.save(\"../data/ADTPredictor_neuripstrain_Bcells.joblib\")"
   ]
  },
  {
   "cell_type": "markdown",
   "metadata": {
    "pycharm": {
     "name": "#%% md\n"
    }
   },
   "source": [
    "### Train on NeurIPS competition dataset, only NK cells"
   ]
  },
  {
   "cell_type": "code",
   "execution_count": 39,
   "metadata": {
    "pycharm": {
     "name": "#%%\n"
    }
   },
   "outputs": [],
   "source": [
    "def filter_to_NKcells(adata):\n",
    "    gex_data = adata[:, adata.var[\"feature_types\"] == \"GEX\"]\n",
    "    adt_data = adata[:, adata.var[\"feature_types\"] == \"ADT\"]\n",
    "    cell_mask = adata.obs[\"cell_type\"].str.contains(\"NK \") | adata.obs[\"cell_type\"].str.endswith(\"NK\")\n",
    "    return gex_data[cell_mask], adt_data[cell_mask]\n",
    "\n",
    "gex_train_NKcells, adt_train_NKcells = filter_to_NKcells(gex_adt_with_celltype[gex_train.obs_names])\n",
    "gex_test_NKcells, adt_test_NKcells = filter_to_NKcells(gex_adt_with_celltype[gex_test.obs_names])"
   ]
  },
  {
   "cell_type": "code",
   "execution_count": 40,
   "metadata": {
    "pycharm": {
     "name": "#%%\n"
    }
   },
   "outputs": [
    {
     "data": {
      "text/plain": [
       "cell_type\n",
       "NK             3657\n",
       "NK CD158e1+    1683\n",
       "Name: count, dtype: int64"
      ]
     },
     "execution_count": 40,
     "metadata": {},
     "output_type": "execute_result"
    }
   ],
   "source": [
    "gex_train_NKcells.obs[\"cell_type\"].value_counts()"
   ]
  },
  {
   "cell_type": "code",
   "execution_count": 41,
   "metadata": {
    "pycharm": {
     "name": "#%%\n"
    }
   },
   "outputs": [],
   "source": [
    "# train a new pipeline on only NK cells\n",
    "pipe_NKcells = ADTPredictor(do_log1p=True)\n",
    "pipe_NKcells.fit(gex_train=gex_train_NKcells.X.toarray(),\n",
    "                adt_train=adt_train_NKcells.X.toarray(),\n",
    "                gex_test=gex_test_NKcells.X.toarray(),\n",
    "                gex_names=gex_train_NKcells.var_names.to_numpy(),\n",
    "                adt_names=adt_train_NKcells.var_names.to_numpy())"
   ]
  },
  {
   "cell_type": "code",
   "execution_count": 42,
   "metadata": {
    "pycharm": {
     "name": "#%%\n"
    }
   },
   "outputs": [
    {
     "name": "stdout",
     "output_type": "stream",
     "text": [
      "RMSE: 0.3473118\n",
      "Pearson correlation: 0.8837162800589263\n",
      "Spearman correlation: 0.8567011868914186\n"
     ]
    },
    {
     "data": {
      "text/plain": [
       "(0.3473118, 0.8837162800589263, 0.8567011868914186)"
      ]
     },
     "execution_count": 42,
     "metadata": {},
     "output_type": "execute_result"
    }
   ],
   "source": [
    "# evaluate on NK cells\n",
    "adt_pred, adt_names = pipe_NKcells.predict(gex_test_NKcells.X.toarray())\n",
    "evaluate(adt_pred, adt_test_NKcells.X.toarray())"
   ]
  },
  {
   "cell_type": "code",
   "execution_count": 43,
   "metadata": {
    "pycharm": {
     "name": "#%%\n"
    }
   },
   "outputs": [],
   "source": [
    "# save the trained pipeline\n",
    "pipe_NKcells.save(\"../data/ADTPredictor_neuripstrain_NKcells.joblib\")"
   ]
  },
  {
   "cell_type": "markdown",
   "metadata": {
    "collapsed": false,
    "pycharm": {
     "name": "#%% md\n"
    }
   },
   "source": [
    "### Load the pretrained kernel ridge regression ensemble model"
   ]
  },
  {
   "cell_type": "code",
   "execution_count": 44,
   "metadata": {
    "collapsed": false,
    "pycharm": {
     "name": "#%%\n"
    }
   },
   "outputs": [
    {
     "ename": "FileNotFoundError",
     "evalue": "[Errno 2] No such file or directory: 'ADTPredictorKRREnsemble_neuripstrain_alltypes.joblib'",
     "output_type": "error",
     "traceback": [
      "\u001b[0;31m---------------------------------------------------------------------------\u001b[0m",
      "\u001b[0;31mFileNotFoundError\u001b[0m                         Traceback (most recent call last)",
      "Cell \u001b[0;32mIn[44], line 2\u001b[0m\n\u001b[1;32m      1\u001b[0m pipe \u001b[39m=\u001b[39m ADTPredictorKRREnsemble(do_log1p\u001b[39m=\u001b[39m\u001b[39mFalse\u001b[39;00m)\n\u001b[0;32m----> 2\u001b[0m pipe\u001b[39m.\u001b[39;49mload(\u001b[39m'\u001b[39;49m\u001b[39mADTPredictorKRREnsemble_neuripstrain_alltypes.joblib\u001b[39;49m\u001b[39m'\u001b[39;49m)\n\u001b[1;32m      3\u001b[0m adt_pred, adt_names \u001b[39m=\u001b[39m pipe\u001b[39m.\u001b[39mpredict(gex_test\u001b[39m.\u001b[39mX\u001b[39m.\u001b[39mtoarray())\n\u001b[1;32m      4\u001b[0m evaluate(adt_pred, adt_test\u001b[39m.\u001b[39mX\u001b[39m.\u001b[39mtoarray())\n",
      "File \u001b[0;32m~/Desktop/Projects/single_cell_modularity_prediction/analysis/scLinear_code/scLinear_code/scripts/prediction.py:232\u001b[0m, in \u001b[0;36mADTPredictor.load\u001b[0;34m(self, path)\u001b[0m\n\u001b[1;32m    224\u001b[0m \u001b[39m\u001b[39m\u001b[39m\"\"\"\u001b[39;00m\n\u001b[1;32m    225\u001b[0m \u001b[39mLoad a pretrained pipeline from a file.\u001b[39;00m\n\u001b[1;32m    226\u001b[0m \u001b[39mParameters\u001b[39;00m\n\u001b[0;32m   (...)\u001b[0m\n\u001b[1;32m    229\u001b[0m \u001b[39m    Path to the file.\u001b[39;00m\n\u001b[1;32m    230\u001b[0m \u001b[39m\"\"\"\u001b[39;00m\n\u001b[1;32m    231\u001b[0m \u001b[39mimport\u001b[39;00m \u001b[39mjoblib\u001b[39;00m\n\u001b[0;32m--> 232\u001b[0m pretrained_pipe \u001b[39m=\u001b[39m joblib\u001b[39m.\u001b[39;49mload(path)\n\u001b[1;32m    233\u001b[0m \u001b[39mself\u001b[39m\u001b[39m.\u001b[39mgex_preprocessor \u001b[39m=\u001b[39m pretrained_pipe\u001b[39m.\u001b[39mgex_preprocessor\n\u001b[1;32m    234\u001b[0m \u001b[39mself\u001b[39m\u001b[39m.\u001b[39mmodel \u001b[39m=\u001b[39m pretrained_pipe\u001b[39m.\u001b[39mmodel\n",
      "File \u001b[0;32m~/.virtualenvs/scLinear_code/lib/python3.9/site-packages/joblib/numpy_pickle.py:650\u001b[0m, in \u001b[0;36mload\u001b[0;34m(filename, mmap_mode)\u001b[0m\n\u001b[1;32m    648\u001b[0m         obj \u001b[39m=\u001b[39m _unpickle(fobj)\n\u001b[1;32m    649\u001b[0m \u001b[39melse\u001b[39;00m:\n\u001b[0;32m--> 650\u001b[0m     \u001b[39mwith\u001b[39;00m \u001b[39mopen\u001b[39;49m(filename, \u001b[39m'\u001b[39;49m\u001b[39mrb\u001b[39;49m\u001b[39m'\u001b[39;49m) \u001b[39mas\u001b[39;00m f:\n\u001b[1;32m    651\u001b[0m         \u001b[39mwith\u001b[39;00m _read_fileobject(f, filename, mmap_mode) \u001b[39mas\u001b[39;00m fobj:\n\u001b[1;32m    652\u001b[0m             \u001b[39mif\u001b[39;00m \u001b[39misinstance\u001b[39m(fobj, \u001b[39mstr\u001b[39m):\n\u001b[1;32m    653\u001b[0m                 \u001b[39m# if the returned file object is a string, this means we\u001b[39;00m\n\u001b[1;32m    654\u001b[0m                 \u001b[39m# try to load a pickle file generated with an version of\u001b[39;00m\n\u001b[1;32m    655\u001b[0m                 \u001b[39m# Joblib so we load it with joblib compatibility function.\u001b[39;00m\n",
      "\u001b[0;31mFileNotFoundError\u001b[0m: [Errno 2] No such file or directory: 'ADTPredictorKRREnsemble_neuripstrain_alltypes.joblib'"
     ]
    }
   ],
   "source": [
    "pipe = ADTPredictorKRREnsemble(do_log1p=False)\n",
    "pipe.load('../data/ADTPredictorKRREnsemble_neuripstrain_alltypes.joblib')\n",
    "adt_pred, adt_names = pipe.predict(gex_test.X.toarray())\n",
    "evaluate(adt_pred, adt_test.X.toarray())"
   ]
  }
 ],
 "metadata": {
  "kernelspec": {
   "display_name": "Python 3 (ipykernel)",
   "language": "python",
   "name": "python3"
  },
  "language_info": {
   "codemirror_mode": {
    "name": "ipython",
    "version": 3
   },
   "file_extension": ".py",
   "mimetype": "text/x-python",
   "name": "python",
   "nbconvert_exporter": "python",
   "pygments_lexer": "ipython3",
   "version": "3.9.7"
  }
 },
 "nbformat": 4,
 "nbformat_minor": 1
}
